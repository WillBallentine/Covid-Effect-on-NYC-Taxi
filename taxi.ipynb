{
 "cells": [
  {
   "attachments": {},
   "cell_type": "markdown",
   "metadata": {},
   "source": [
    "# Introduction\n",
    "\n",
    "This project sets out to analyze the affects that Covid-19 had on the Taxi industry in New York City, New York.\n",
    "\n",
    "Covid-19 had tremendous impact on every aspect of society and much of the restrictions that were put into place directly impacted the way Taxis could operate.\n",
    "\n",
    "### Background Information\n",
    "The Covid-19 pandemic began on March 11th of 2020 and continued for a substantial portion of the next 3 years. For the first year lockdowns, mask restrictions, limiting the number of people in places, and other limitations were placed on the United States. These restrictions would seem to have a logical impact on the NYC Taxi market but how sever was that impact? [(Here is a link to the CDC's timeline)](https://www.cdc.gov/museum/timeline/covid19.html)\n",
    "\n",
    "*This project will attempt to answer the following questions:*\n",
    "\n",
    "* Did the average passenger count go up or down during the pandemic compared to years before 2020.\n",
    "* Did the payment method for rides change during and after the pandemic?\n",
    "* How was the average fare cost per ride affected?\n",
    "* How did the pandemic affect the average trip distance?\n",
    "* Was tipping affected by the pandemic?\n",
    "\n",
    "\n",
    "## Methodology\n",
    "\n",
    "Taxi data was taken from the [(NYC Taxi & Limousine Commission)](https://www.nyc.gov/site/tlc/about/tlc-trip-record-data.page) and the Covid data was taken from the [(CDC)](https://data.cdc.gov/Case-Surveillance/United-States-COVID-19-Cases-and-Deaths-by-State-o/9mfq-cb36). For definitions of terms in the Taxi data, please see the `data_dictionary_trip_records_yellow.pdf` in the assets folder.\n",
    "\n",
    "The Taxi data exists originally in .parquet files that contain a month's worth of trip data. This was compiled into two .csv files, `overall_data.csv` and `sample.csv`. The `overall_data.csv` file is what was used in the analysis below. It was not uploaded here due to its size and GitHub's size restrictions. `sample.csv` has been provided within the assets folder. This is a much smaller data set compiled from the same .parquet files but in a more manageable size for this to be ran for testing purposes and by others. If you would like to run this on a full data set like `overall_data.csv`, you will need to gather the .parquet files from the NYC link above and run `taxi_csv_create.ipynb`. \n"
   ]
  },
  {
   "attachments": {},
   "cell_type": "markdown",
   "metadata": {},
   "source": [
    "## Results\n",
    "\n",
    "### 1. Import Libraries"
   ]
  },
  {
   "cell_type": "code",
   "execution_count": null,
   "metadata": {},
   "outputs": [],
   "source": [
    "import pandas as pd\n",
    "import numpy as np\n",
    "import matplotlib.pyplot as plt\n",
    "import matplotlib as mpl\n",
    "import geopandas as gpd\n",
    "import folium as fol"
   ]
  },
  {
   "attachments": {},
   "cell_type": "markdown",
   "metadata": {},
   "source": [
    "### 2. Import and clean the Taxi and Covid Data"
   ]
  },
  {
   "cell_type": "code",
   "execution_count": null,
   "metadata": {},
   "outputs": [],
   "source": [
    "overall_data = pd.read_csv('assets/overall_data.csv')"
   ]
  },
  {
   "cell_type": "code",
   "execution_count": null,
   "metadata": {},
   "outputs": [],
   "source": [
    "overall_data[\"pickup_datetime\"] = pd.to_datetime(overall_data['pickup_datetime'])\n",
    "overall_data['dropoff_datetime'] = pd.to_datetime(overall_data['dropoff_datetime'])"
   ]
  },
  {
   "attachments": {},
   "cell_type": "markdown",
   "metadata": {},
   "source": [
    "We need to remove inaccurate trip data from the dataframe"
   ]
  },
  {
   "cell_type": "code",
   "execution_count": null,
   "metadata": {},
   "outputs": [],
   "source": [
    "drop_list = (list(np.where(overall_data['trip_distance'] > 100)))"
   ]
  },
  {
   "cell_type": "code",
   "execution_count": null,
   "metadata": {},
   "outputs": [],
   "source": [
    "for i in drop_list:\n",
    "    overall_data.drop(i, inplace=True)"
   ]
  },
  {
   "cell_type": "code",
   "execution_count": null,
   "metadata": {},
   "outputs": [],
   "source": [
    "covid_df  = pd.read_csv('assets/covidreportsbystate.csv')"
   ]
  },
  {
   "cell_type": "code",
   "execution_count": null,
   "metadata": {},
   "outputs": [],
   "source": [
    "covid_df['submission_date'] = pd.to_datetime(covid_df['submission_date'])\n",
    "covid_df['created_at'] = pd.to_datetime(covid_df['created_at'])"
   ]
  },
  {
   "cell_type": "code",
   "execution_count": null,
   "metadata": {},
   "outputs": [],
   "source": [
    "covid_df.drop(columns=['consent_cases', 'consent_deaths', 'prob_cases', 'new_case', 'pnew_case', 'prob_death', 'new_death', 'pnew_death', 'conf_cases', 'conf_death'], inplace=True)"
   ]
  },
  {
   "cell_type": "code",
   "execution_count": null,
   "metadata": {},
   "outputs": [],
   "source": [
    "covid_df['year'] = covid_df['submission_date'].dt.year"
   ]
  },
  {
   "attachments": {},
   "cell_type": "markdown",
   "metadata": {},
   "source": [
    "### 3. Explore the Data\n",
    "\n",
    "#### Question 1: Did the average passenger count go up or down during the pandemic compared to years before 2020."
   ]
  },
  {
   "attachments": {},
   "cell_type": "markdown",
   "metadata": {},
   "source": [
    "##### Plot 1: Average Passenger Count by Year"
   ]
  },
  {
   "cell_type": "code",
   "execution_count": null,
   "metadata": {},
   "outputs": [],
   "source": [
    "#create a graph of the average number of passengers per ride per year rounded to two decimal places\n",
    "passenger_count = overall_data.groupby('year')['passenger_count'].mean()\n",
    "passenger_count.plot(kind='bar', ylabel=\"Passengers\", title='Average Passenger Count by Year', color='blue')\n",
    "\n",
    "#calculate the average number of passengers per ride per year in 2019 and 2020\n",
    "passenger_count_2019 = overall_data[overall_data['year'] == 2019]['passenger_count'].mean()\n",
    "passenger_count_2020 = overall_data[overall_data['year'] == 2020]['passenger_count'].mean()\n",
    "\n",
    "passenger_count_2019, passenger_count_2020"
   ]
  },
  {
   "attachments": {},
   "cell_type": "markdown",
   "metadata": {},
   "source": [
    "##### Plot 2: Total Covid Cases in NY"
   ]
  },
  {
   "cell_type": "code",
   "execution_count": null,
   "metadata": {},
   "outputs": [],
   "source": [
    "#plot the tot_cases by day where state = NY\n",
    "covid_df[covid_df['state'] == 'NY'].plot(kind='area',x='submission_date', y='tot_cases', title='Total Cases in NY', xlabel='Date', ylabel='Total Cases', figsize=(20, 10)).ticklabel_format(style='plain', axis='y')"
   ]
  },
  {
   "attachments": {},
   "cell_type": "markdown",
   "metadata": {},
   "source": [
    "### Findings\n",
    "\n",
    "* The average number of passengers before 2020 had already began to decline starting in 2013 but took a steeper drop from 1.56 people in 2019 to 1.41 people in 2020.\n",
    "* Rides did recover a bit in 2021 but went back down in 2022.\n",
    "* It seems the pandemic had an impact on the average rider count but not as significant as I hypothesized at the outset."
   ]
  },
  {
   "attachments": {},
   "cell_type": "markdown",
   "metadata": {},
   "source": [
    "#### Question 2: Did the payment method for rides change during and after the pandemic?"
   ]
  },
  {
   "attachments": {},
   "cell_type": "markdown",
   "metadata": {},
   "source": [
    "### Cralculate the number of Cash and Credit Card usage totals by year"
   ]
  },
  {
   "cell_type": "code",
   "execution_count": null,
   "metadata": {},
   "outputs": [],
   "source": [
    "#plot the number of rides that paid with credit card in 2019\n",
    "credit = overall_data[overall_data['payment_type'] == 'credit_card']\n",
    "credit = credit.groupby('year')['payment_type'].count()\n",
    "\n"
   ]
  },
  {
   "cell_type": "code",
   "execution_count": null,
   "metadata": {},
   "outputs": [],
   "source": [
    "#plot the number of rides that paid with cash after 2019\n",
    "cash = overall_data[overall_data['payment_type'] == 'cash']\n",
    "cash = cash.groupby('year')['payment_type'].count()\n",
    "\n"
   ]
  },
  {
   "attachments": {},
   "cell_type": "markdown",
   "metadata": {},
   "source": [
    "### Calculate the number of Cash and Credit Card usage totals for 2019 and 2020 specifically"
   ]
  },
  {
   "cell_type": "code",
   "execution_count": null,
   "metadata": {},
   "outputs": [],
   "source": [
    "#count of cash in 2019\n",
    "cash_2019 = overall_data[(overall_data['payment_type'] == 'cash') & (overall_data['year'] == 2019)]['payment_type'].count()\n",
    "cash_2019"
   ]
  },
  {
   "cell_type": "code",
   "execution_count": null,
   "metadata": {},
   "outputs": [],
   "source": [
    "#count of credit in 2019\n",
    "credit_2019 = overall_data[(overall_data['payment_type'] == 'credit_card') & (overall_data['year'] == 2019)]['payment_type'].count()\n",
    "credit_2019"
   ]
  },
  {
   "cell_type": "code",
   "execution_count": null,
   "metadata": {},
   "outputs": [],
   "source": [
    "#count of cash in 2020\n",
    "cash_2020 = overall_data[(overall_data['payment_type'] == 'cash') & (overall_data['year'] == 2020)]['payment_type'].count()\n",
    "cash_2020"
   ]
  },
  {
   "cell_type": "code",
   "execution_count": null,
   "metadata": {},
   "outputs": [],
   "source": [
    "#count of credit in 2020\n",
    "credit_2020 = overall_data[(overall_data['payment_type'] == 'credit_card') & (overall_data['year'] == 2020)]['payment_type'].count()\n",
    "credit_2020"
   ]
  },
  {
   "attachments": {},
   "cell_type": "markdown",
   "metadata": {},
   "source": [
    "### Calculate the percentage each payment type was used in 2019 and 2020"
   ]
  },
  {
   "cell_type": "code",
   "execution_count": null,
   "metadata": {},
   "outputs": [],
   "source": [
    "#calculate the perentage of cash payments in 2019\n",
    "cash_2019 / (cash_2019 + credit_2019)\n"
   ]
  },
  {
   "cell_type": "code",
   "execution_count": null,
   "metadata": {},
   "outputs": [],
   "source": [
    "#calculate the perentage of credit payments in 2019\n",
    "credit_2019 / (cash_2019 + credit_2019)\n"
   ]
  },
  {
   "cell_type": "code",
   "execution_count": null,
   "metadata": {},
   "outputs": [],
   "source": [
    "#calculate the perentage of cash payments in 2020\n",
    "cash_2020 / (cash_2020 + credit_2020)"
   ]
  },
  {
   "cell_type": "code",
   "execution_count": null,
   "metadata": {},
   "outputs": [],
   "source": [
    "#calculate the perentage of credit payments in 2020\n",
    "credit_2020 / (cash_2020 + credit_2020)"
   ]
  },
  {
   "attachments": {},
   "cell_type": "markdown",
   "metadata": {},
   "source": [
    "##### Plot 3: Cash vs. Credit Payments"
   ]
  },
  {
   "cell_type": "code",
   "execution_count": null,
   "metadata": {},
   "outputs": [],
   "source": [
    "#overlay cash_2019 and credit_2019 side by side to compare on the same graph with a legend\n",
    "fig, ax = plt.subplots()\n",
    "credit.plot(title='Credit Card Payments', color='blue', ax=ax)\n",
    "cash.plot(title='Cash  vs. Credit Payments', color='red', ax=ax)\n",
    "ax.legend(['Credit Card', 'Cash'])\n"
   ]
  },
  {
   "attachments": {},
   "cell_type": "markdown",
   "metadata": {},
   "source": [
    "##### Plot 4: Percentage of Cash vs. Credit Payments for 2019 and 2020"
   ]
  },
  {
   "cell_type": "code",
   "execution_count": null,
   "metadata": {},
   "outputs": [],
   "source": [
    "labels = ['Cash', 'Credit']\n",
    "sizes = [cash_2019 / (cash_2019 + credit_2019), credit_2019 / (cash_2019 + credit_2019)]\n",
    "sizes2 = [cash_2020 / (cash_2020 + credit_2020), credit_2020 / (cash_2020 + credit_2020)]\n",
    "\n",
    "fig1, ax1 = plt.subplots()\n",
    "ax1.pie(sizes, labels=labels, autopct='%1.1f%%', shadow=True, startangle=90)\n",
    "ax1.axis('equal')\n",
    "plt.title('2019 Cash vs. Credit Payments')\n",
    "plt.show()\n",
    "\n",
    "fig2, ax2 = plt.subplots()\n",
    "ax2.pie(sizes2, labels=labels, autopct='%1.1f%%', shadow=True, startangle=90)\n",
    "ax2.axis('equal')\n",
    "plt.title('2020 Cash vs. Credit Payments')\n",
    "plt.show()\n",
    "\n"
   ]
  },
  {
   "attachments": {},
   "cell_type": "markdown",
   "metadata": {},
   "source": [
    "### Findings\n",
    "\n",
    "* The number of cash payments in 2019 was 321,343 while the number of credit payments the same year was 851,437\n",
    "* The number of cash payments in 2020 was 321,204 while the number of credit payments the same year was 777,336\n",
    "* In 2019, roughly 73% of all payments were made with credit card. In 2020 that number decreased to roughly %71."
   ]
  },
  {
   "attachments": {},
   "cell_type": "markdown",
   "metadata": {},
   "source": [
    "#### Question 3: How was the average fare cost per ride affected?\n",
    "\n",
    "##### Plot 5: Average Fare Amount by Year"
   ]
  },
  {
   "cell_type": "code",
   "execution_count": null,
   "metadata": {},
   "outputs": [],
   "source": [
    "#plot the average fare amount per year\n",
    "fare_amount = overall_data.groupby('year')['fare_amount'].mean()\n",
    "fare_amount.plot(title='Average Fare Amount by Year', color='blue', ylabel='Fare Amount')\n"
   ]
  },
  {
   "cell_type": "code",
   "execution_count": null,
   "metadata": {},
   "outputs": [],
   "source": [
    "#calculate the average fare amount in 2011\n",
    "fare_amount_2011 = overall_data[overall_data['year'] == 2011]['fare_amount'].mean()\n",
    "fare_amount_2011"
   ]
  },
  {
   "cell_type": "code",
   "execution_count": null,
   "metadata": {},
   "outputs": [],
   "source": [
    "#calculate the average fare amount in 2019\n",
    "fare_amount_2019 = overall_data[overall_data['year'] == 2019]['fare_amount'].mean()\n",
    "fare_amount_2019"
   ]
  },
  {
   "cell_type": "code",
   "execution_count": null,
   "metadata": {},
   "outputs": [],
   "source": [
    "#calculate the average fare amount in 2020\n",
    "fare_amount_2020 = overall_data[overall_data['year'] == 2020]['fare_amount'].mean()\n",
    "fare_amount_2020\n"
   ]
  },
  {
   "cell_type": "code",
   "execution_count": null,
   "metadata": {},
   "outputs": [],
   "source": [
    "#calculate the average fare amount in 2021\n",
    "fare_amount_2021 = overall_data[overall_data['year'] == 2021]['fare_amount'].mean()\n",
    "fare_amount_2021\n"
   ]
  },
  {
   "attachments": {},
   "cell_type": "markdown",
   "metadata": {},
   "source": [
    "##### Plot 6: Average Fare Amount for 2019 through 2022"
   ]
  },
  {
   "cell_type": "code",
   "execution_count": null,
   "metadata": {},
   "outputs": [],
   "source": [
    "#plot the average fare amount per year starting in 2019 and ending in 2021\n",
    "fare_amount = overall_data[overall_data['year'] >= 2019].groupby('year')['fare_amount'].mean()\n",
    "fare_amount.plot(title='Average Fare Amount by Year', color='blue', ylabel='Fare Amount')\n",
    "ax = plt.gca()\n",
    "ax.yaxis.set_major_formatter(mpl.ticker.StrMethodFormatter('${x:,.0f}'))\n",
    "ax.xaxis.set_major_formatter(mpl.ticker.StrMethodFormatter('{x:.0f}'))\n",
    "\n"
   ]
  },
  {
   "attachments": {},
   "cell_type": "markdown",
   "metadata": {},
   "source": [
    "### Findings\n",
    "\n",
    "* The average fare price per ride has steadily been increasing since 2011.\n",
    "* The average fare price in 2011 was $10.25 and grew to $13.38 in 2019.\n",
    "* In 2020 the average fare price was $12.62."
   ]
  },
  {
   "attachments": {},
   "cell_type": "markdown",
   "metadata": {},
   "source": [
    "#### Question 4: How did the pandemic affect the average trip distance?"
   ]
  },
  {
   "attachments": {},
   "cell_type": "markdown",
   "metadata": {},
   "source": [
    "##### Create and clean one last dataset for the NYC Boroughs"
   ]
  },
  {
   "cell_type": "code",
   "execution_count": null,
   "metadata": {},
   "outputs": [],
   "source": [
    "borough_data = pd.read_csv('assets/taxi_zone_lookup.csv')\n"
   ]
  },
  {
   "cell_type": "code",
   "execution_count": null,
   "metadata": {},
   "outputs": [],
   "source": [
    "#convert PU location ID in overall_data to borough based on borough_data\n",
    "borough_data = borough_data[['LocationID', 'Borough']]\n",
    "borough_data = borough_data.rename(columns={'LocationID': 'PULocationID'})\n",
    "overall_data = overall_data.merge(borough_data, on='PULocationID', how='left')\n",
    "overall_data = overall_data.rename(columns={'Borough': 'PUBorough'})\n"
   ]
  },
  {
   "cell_type": "code",
   "execution_count": null,
   "metadata": {},
   "outputs": [],
   "source": [
    "overall_data = overall_data.loc[overall_data['PUBorough'] != 'EWR']\n",
    "overall_data = overall_data.loc[overall_data['PUBorough'] != 'Unknown']"
   ]
  },
  {
   "cell_type": "code",
   "execution_count": null,
   "metadata": {},
   "outputs": [],
   "source": [
    "#reset index of overall_data by puborough\n",
    "map_data = overall_data.set_index('PUBorough')\n",
    "map_data"
   ]
  },
  {
   "attachments": {},
   "cell_type": "markdown",
   "metadata": {},
   "source": [
    "##### Plot 7: Average Trip distance by Borough since 2011 Chorolpleth"
   ]
  },
  {
   "cell_type": "code",
   "execution_count": null,
   "metadata": {},
   "outputs": [],
   "source": [
    "\n",
    "map = fol.Map(location=[40.7128, -74.0060], zoom_start=10)\n",
    "map.choropleth(geo_data='assets/new-york-city-boroughs.geojson', data=overall_data, columns=['PUBorough', 'trip_distance'], key_on='feature.properties.name', fill_color='YlGn', fill_opacity=0.7, line_opacity=0.2, legend_name='Average Distance in Miles', highlight=True, labels='feature.properties.name')\n",
    "map\n"
   ]
  },
  {
   "attachments": {},
   "cell_type": "markdown",
   "metadata": {},
   "source": [
    "##### Plot 8: Average Trip distance by Borough since 2011 Bar graph"
   ]
  },
  {
   "cell_type": "code",
   "execution_count": null,
   "metadata": {},
   "outputs": [],
   "source": [
    "#calculate the average distance per borough per year and plot it\n",
    "borough_distance = overall_data.groupby(['PUBorough', 'year'])['trip_distance'].mean()\n",
    "borough_distance = borough_distance.reset_index()\n",
    "borough_distance = borough_distance.pivot(index='PUBorough', columns='year', values='trip_distance')\n",
    "borough_distance.plot(kind='bar', title='Average Distance by Borough by Year', ylabel='Distance in Miles')\n",
    "#make the graph wider\n",
    "plt.gcf().set_size_inches(25, 5)\n",
    "\n"
   ]
  },
  {
   "attachments": {},
   "cell_type": "markdown",
   "metadata": {},
   "source": [
    "### Findings\n",
    "\n",
    "* The average trip distance was surprisingly on the incline in most Borough's from 2019 on.\n",
    "* The Bronx had it's highest yearly average trip distance in 2021 and Staten Island's was in 2020.\n",
    "* There wasn't a single Borough whose trip distance fill during the pandemic related years of 2020-2021."
   ]
  },
  {
   "attachments": {},
   "cell_type": "markdown",
   "metadata": {},
   "source": [
    "#### Question 5: Was tipping affected by the pandemic?"
   ]
  },
  {
   "cell_type": "code",
   "execution_count": null,
   "metadata": {},
   "outputs": [],
   "source": [
    "#average tip amount per borough\n",
    "borough_tip = overall_data[overall_data['PUBorough'] != 'EWR']\n",
    "borough_tip = overall_data.groupby(['PUBorough'])['tip_amount'].mean()\n",
    "borough_tip"
   ]
  },
  {
   "cell_type": "code",
   "execution_count": null,
   "metadata": {},
   "outputs": [],
   "source": [
    "#average tip amount in 2020\n",
    "borough_tip_2020 = overall_data[overall_data['year'] == 2020]\n",
    "borough_tip_2020 = borough_tip_2020.groupby(['PUBorough'])['tip_amount'].mean()\n",
    "borough_tip_2020\n"
   ]
  },
  {
   "cell_type": "code",
   "execution_count": null,
   "metadata": {},
   "outputs": [],
   "source": [
    "#average tip amount in 2019\n",
    "borough_tip_2019 = overall_data[overall_data['year'] == 2019]\n",
    "borough_tip_2019 = borough_tip_2019.groupby(['PUBorough'])['tip_amount'].mean()\n",
    "borough_tip_2019"
   ]
  },
  {
   "cell_type": "code",
   "execution_count": null,
   "metadata": {},
   "outputs": [],
   "source": [
    "#average tip amount in 2021\n",
    "borough_tip_2021 = overall_data[overall_data['year'] == 2021]\n",
    "borough_tip_2021 = borough_tip_2021.groupby(['PUBorough'])['tip_amount'].mean()\n",
    "borough_tip_2021"
   ]
  },
  {
   "cell_type": "code",
   "execution_count": null,
   "metadata": {},
   "outputs": [],
   "source": [
    "#average tip amount in 2022\n",
    "borough_tip_2022 = overall_data[overall_data['year'] == 2022]\n",
    "borough_tip_2022 = borough_tip_2022.groupby(['PUBorough'])['tip_amount'].mean()\n",
    "borough_tip_2022\n"
   ]
  },
  {
   "cell_type": "code",
   "execution_count": null,
   "metadata": {},
   "outputs": [],
   "source": [
    "#average tip amount for queens\n",
    "borough_tip_queens = overall_data[overall_data['PUBorough'] == 'Queens']\n",
    "borough_tip_queens = borough_tip_queens.groupby(['PUBorough'])['tip_amount'].mean()\n",
    "borough_tip_queens\n"
   ]
  },
  {
   "cell_type": "code",
   "execution_count": null,
   "metadata": {},
   "outputs": [],
   "source": [
    "#what was percentage change in tips from 2019 to 2020\n",
    "tip_change = (borough_tip_2020 - borough_tip_2019) / borough_tip_2019\n",
    "tip_change = tip_change * 100\n",
    "tip_change\n",
    "\n",
    "tot_change = 0\n",
    "\n",
    "for i in tip_change:\n",
    "    tot_change += i\n",
    "\n",
    "tot_change = tot_change / 5\n",
    "tot_change\n"
   ]
  },
  {
   "attachments": {},
   "cell_type": "markdown",
   "metadata": {},
   "source": [
    "##### Plot 9: Average Tip Amount by Borough"
   ]
  },
  {
   "cell_type": "code",
   "execution_count": null,
   "metadata": {},
   "outputs": [],
   "source": [
    "#plot the change in average tip amount per borough from 2019 to 2020\n",
    "fig, ax = plt.subplots()\n",
    "borough_tip_2019.plot(title='Average Tip Amount by Borough', color='blue', ax=ax)\n",
    "borough_tip_2020.plot(title='Average Tip Amount by Borough', color='red', ax=ax)\n",
    "borough_tip_2021.plot(title='Average Tip Amount by Borough', color='green', ax=ax)\n",
    "borough_tip_2022.plot(title='Average Tip Amount by Borough', color='orange', ax=ax)\n",
    "ax.legend(['2019', '2020', '2021', '2022'])\n"
   ]
  },
  {
   "attachments": {},
   "cell_type": "markdown",
   "metadata": {},
   "source": [
    "### Findings\n",
    "\n",
    "* Queens consistently has the highest average tip of all the Boroughs at $4.52.\n",
    "* Tipping had a 51.59% change from 2019 to 2020. The only Boroughs that saw a rise in tipping in 2020 was the Bronx and Staten Island.\n",
    "* Tipping did return to roughly pre-Covid levels in 2021 for all Boroughs.\n",
    "* There was a steep rise in tipping in all Boroughs in 2022 from 2021 except in the Bronx and Staten Island.\n",
    "\n",
    "#### Notes for further study of this question:\n",
    "\n",
    "It would be very interesting to dive into the reasons behind the inverse affect Covid-19 had on the Bronx and Staten Island when it comes to tipping. While these reasons are beyond the scope of this project, one could use this data to seek greater insight in this area.\n"
   ]
  },
  {
   "attachments": {},
   "cell_type": "markdown",
   "metadata": {},
   "source": [
    "##### Plot 10: Summary plot of all data presented"
   ]
  },
  {
   "cell_type": "code",
   "execution_count": null,
   "metadata": {},
   "outputs": [],
   "source": [
    "#display the map in a panel with the other plots\n",
    "\n",
    "fig, ax = plt.subplots(2, 2, figsize=(30, 20))\n",
    "passenger_count.plot(kind='bar', title='Average Passenger Count by Year', color='blue', ax=ax[0,0], xlabel='Year', ylabel='Passenger Count')\n",
    "borough_distance.plot(kind='bar', title='Distance Traveled', colormap='Paired', ax=ax[0,1], xlabel='Borough', ylabel='Distance in Miles')\n",
    "borough_tip_2019.plot(title='Average Tip Amount by Borough', color='blue', ax=ax[1,0], xlabel='Borough', ylabel='Tip Amount in USD')\n",
    "borough_tip_2020.plot(title='Average Tip Amount by Borough', color='red', ax=ax[1,0], xlabel='Borough', ylabel='Tip Amount in USD')\n",
    "borough_tip_2021.plot(title='Average Tip Amount by Borough', color='green', ax=ax[1,0], xlabel='Borough', ylabel='Tip Amount in USD')\n",
    "borough_tip_2022.plot(title='Average Tip Amount by Borough', color='orange', ax=ax[1,0], xlabel='Borough', ylabel='Tip Amount in USD')\n",
    "cash.plot(title='Cash  vs. Credit Payments', color='red', ax=ax[1,1], ylabel='Number of Payments', xlabel='Year')\n",
    "credit.plot(title='Cash  vs. Credit Payments', color='blue', ax=ax[1,1], ylabel='Number of Payments', xlabel='Year')\n",
    "ax[0,0].legend(['Average Passenger Count'])\n",
    "ax[0,1].legend(loc='upper left', bbox_to_anchor=(1, 1), ncol=1, fancybox=True, shadow=True, title='Borough', title_fontsize='large',    borderpad=1, labelspacing=1, handlelength=1, handletextpad=1, borderaxespad=1, columnspacing=1)\n",
    "ax[1,0].legend(['2019', '2020', '2021', '2022'])\n",
    "ax[1,1].legend(['Cash', 'Credit Card'])\n",
    "\n",
    "\n",
    "\n",
    "for container in ax[0,0].containers:\n",
    "    ax[0,0].bar_label(container, label_type='edge', fmt='%.2f')\n",
    "\n",
    "\n",
    "#map"
   ]
  },
  {
   "attachments": {},
   "cell_type": "markdown",
   "metadata": {},
   "source": [
    "# Conclusions\n",
    "\n",
    "Through this study we have found:\n",
    "\n",
    "\n",
    "* The average number of passengers before 2020 had already began to decline starting in 2013 but took a steeper drop from 1.56 people in 2019 to 1.41 people in 2020.\n",
    "* Rides did recover a bit in 2021 but went back down in 2022.\n",
    "* It seems the pandemic had an impact on the average rider count but not as significant as I hypothesized at the outset.\n",
    "* The number of cash payments in 2019 was 321,343 while the number of credit payments the same year was 851,437\n",
    "* The number of cash payments in 2020 was 321,204 while the number of credit payments the same year was 777,336\n",
    "* In 2019, roughly 73% of all payments were made with credit card. In 2020 that number decreased to roughly %71.\n",
    "* The average fare price per ride has steadily been increasing since 2011.\n",
    "* The average fare price in 2011 was $10.25 and grew to $13.38 in 2019.\n",
    "* In 2020 the average fare price was $12.62.\n",
    "* Queens consistently has the highest average tip of all the Boroughs at $4.52.\n",
    "* Tipping had a 51.59% change from 2019 to 2020. The only Boroughs that saw a rise in tipping in 2020 was the Bronx and Staten Island.\n",
    "* Tipping did return to roughly pre-Covid levels in 2021 for all Boroughs.\n",
    "* There was a steep rise in tipping in all Boroughs in 2022 from 2021 except in the Bronx and Staten Island."
   ]
  }
 ],
 "metadata": {
  "kernelspec": {
   "display_name": "Python 3",
   "language": "python",
   "name": "python3"
  },
  "language_info": {
   "codemirror_mode": {
    "name": "ipython",
    "version": 3
   },
   "file_extension": ".py",
   "mimetype": "text/x-python",
   "name": "python",
   "nbconvert_exporter": "python",
   "pygments_lexer": "ipython3",
   "version": "3.10.7"
  },
  "orig_nbformat": 4,
  "vscode": {
   "interpreter": {
    "hash": "d8e5688cf3dd00503d0a426f1c5255966c857509c84462baab2570ed664df645"
   }
  }
 },
 "nbformat": 4,
 "nbformat_minor": 2
}
