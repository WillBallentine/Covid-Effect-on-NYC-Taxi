{
 "cells": [
  {
   "attachments": {},
   "cell_type": "markdown",
   "metadata": {},
   "source": [
    "Effects of Covid on the NYC Yellow Taxi"
   ]
  },
  {
   "cell_type": "code",
   "execution_count": null,
   "metadata": {},
   "outputs": [],
   "source": [
    "import pandas as pd\n",
    "import numpy as np\n",
    "import panel as pn\n",
    "pn.extension('tabulator')\n",
    "import matplotlib.pyplot as plt\n",
    "import seaborn as sns\n",
    "import geopandas as gpd\n",
    "import folium as fol"
   ]
  },
  {
   "attachments": {},
   "cell_type": "markdown",
   "metadata": {},
   "source": [
    "First, lets import our Taxi Data and clean it for use later on."
   ]
  },
  {
   "cell_type": "code",
   "execution_count": null,
   "metadata": {},
   "outputs": [],
   "source": [
    "overall_data = pd.read_csv('overall_data.csv')"
   ]
  },
  {
   "cell_type": "code",
   "execution_count": null,
   "metadata": {},
   "outputs": [],
   "source": [
    "overall_data[\"pickup_datetime\"] = pd.to_datetime(overall_data['pickup_datetime'])\n",
    "overall_data['dropoff_datetime'] = pd.to_datetime(overall_data['dropoff_datetime'])"
   ]
  },
  {
   "cell_type": "code",
   "execution_count": null,
   "metadata": {},
   "outputs": [],
   "source": [
    "overall_data['payment_type']"
   ]
  },
  {
   "attachments": {},
   "cell_type": "markdown",
   "metadata": {},
   "source": [
    "Now lets begin to explore the data"
   ]
  },
  {
   "cell_type": "code",
   "execution_count": null,
   "metadata": {},
   "outputs": [],
   "source": [
    "#create a graph of the average number of passengers per ride per year rounded to two decimal places\n",
    "passenger_count = overall_data.groupby('year')['passenger_count'].mean()\n",
    "passenger_count.plot(kind='bar', title='Average Passenger Count by Year', color='blue')"
   ]
  },
  {
   "cell_type": "code",
   "execution_count": null,
   "metadata": {},
   "outputs": [],
   "source": [
    "#overlay the number of covid cases per year\n",
    "final_covid_df['year'] = final_covid_df['submission_date'].dt.year\n",
    "covid_cases = final_covid_df.groupby('year')['new_case'].sum()\n",
    "covid_cases.plot(kind='bar', title='Covid Cases by Year', color='red')"
   ]
  },
  {
   "cell_type": "code",
   "execution_count": null,
   "metadata": {},
   "outputs": [],
   "source": [
    "#did cash payments increase or decrease in 2020?\n",
    "cash_2020 = overall_data[overall_data['payment_type'] == 'cash']\n",
    "cash_2020 = cash_2020.groupby('year')['payment_type'].count()\n",
    "cash_2020"
   ]
  },
  {
   "cell_type": "code",
   "execution_count": null,
   "metadata": {},
   "outputs": [],
   "source": [
    "#did credit card payments increase or decrease in 2020?\n",
    "credit_2020 = overall_data[overall_data['payment_type'] == 'credit_card']\n",
    "credit_2020 = credit_2020.groupby('year')['payment_type'].count()\n",
    "credit_2020"
   ]
  },
  {
   "cell_type": "code",
   "execution_count": null,
   "metadata": {},
   "outputs": [],
   "source": [
    "#plot the number of rides that paid with credit card in 2019\n",
    "credit_2019 = overall_data[overall_data['payment_type'] == 'credit_card']\n",
    "credit_2019 = credit_2019.groupby('year')['payment_type'].count()\n"
   ]
  },
  {
   "cell_type": "code",
   "execution_count": null,
   "metadata": {},
   "outputs": [],
   "source": [
    "#plot the number of rides that paid with cash after 2019\n",
    "cash_2019 = overall_data[overall_data['payment_type'] == 'cash']\n",
    "cash_2019 = cash_2019.groupby('year')['payment_type'].count()\n",
    "\n"
   ]
  },
  {
   "cell_type": "code",
   "execution_count": null,
   "metadata": {},
   "outputs": [],
   "source": [
    "#overlay cash_2019 and credit_2019 side by side to compare on the same graph with a legend\n",
    "fig, ax = plt.subplots()\n",
    "credit_2019.plot(title='Credit Card Payments', color='blue', ax=ax)\n",
    "cash_2019.plot(title='Cash  vs. Credit Payments', color='red', ax=ax)\n",
    "ax.legend(['Credit Card', 'Cash'])\n"
   ]
  },
  {
   "cell_type": "code",
   "execution_count": null,
   "metadata": {},
   "outputs": [],
   "source": [
    "#plot the average fare amount per year\n",
    "fare_amount = overall_data.groupby('year')['fare_amount'].mean()\n",
    "fare_amount.plot(title='Average Fare Amount by Year', color='blue', ylabel='Fare Amount')\n"
   ]
  },
  {
   "attachments": {},
   "cell_type": "markdown",
   "metadata": {},
   "source": [
    "TO DO: convert the borough ids to borough names column\n"
   ]
  },
  {
   "cell_type": "code",
   "execution_count": null,
   "metadata": {},
   "outputs": [],
   "source": [
    "borough_data = pd.read_csv('Taxi Data/taxi_zone_lookup.csv')\n"
   ]
  },
  {
   "cell_type": "code",
   "execution_count": null,
   "metadata": {},
   "outputs": [],
   "source": [
    "#convert PU location ID in overall_data to borough based on borough_data\n",
    "borough_data = borough_data[['LocationID', 'Borough']]\n",
    "borough_data = borough_data.rename(columns={'LocationID': 'PULocationID'})\n",
    "overall_data = overall_data.merge(borough_data, on='PULocationID', how='left')\n",
    "overall_data = overall_data.rename(columns={'Borough': 'PUBorough'})\n"
   ]
  },
  {
   "cell_type": "code",
   "execution_count": null,
   "metadata": {},
   "outputs": [],
   "source": [
    "overall_data = overall_data.loc[overall_data['PUBorough'] != 'EWR']\n",
    "overall_data = overall_data.loc[overall_data['PUBorough'] != 'Unknown']"
   ]
  },
  {
   "cell_type": "code",
   "execution_count": null,
   "metadata": {},
   "outputs": [],
   "source": [
    "#reset index of overall_data by puborough\n",
    "map_data = overall_data.set_index('PUBorough')\n",
    "map_data"
   ]
  },
  {
   "attachments": {},
   "cell_type": "markdown",
   "metadata": {},
   "source": [
    "Average Trip distance by borough"
   ]
  },
  {
   "cell_type": "code",
   "execution_count": null,
   "metadata": {},
   "outputs": [],
   "source": [
    "#make the map interactive with a mouseover\n",
    "map = fol.Map(location=[40.7128, -74.0060], zoom_start=10)\n",
    "map.choropleth(geo_data='visualdata/new-york-city-boroughs.geojson', data=overall_data, columns=['PUBorough', 'trip_distance'], key_on='feature.properties.name', fill_color='YlGn', fill_opacity=0.7, line_opacity=0.2, legend_name='Average Distance in Miles', highlight=True)\n",
    "map\n"
   ]
  },
  {
   "cell_type": "code",
   "execution_count": null,
   "metadata": {},
   "outputs": [],
   "source": [
    "#calculate the average distance per borough per year and plot it\n",
    "borough_distance = overall_data.groupby(['PUBorough', 'year'])['trip_distance'].mean()\n",
    "borough_distance = borough_distance.reset_index()\n",
    "borough_distance = borough_distance.pivot(index='PUBorough', columns='year', values='trip_distance')\n",
    "borough_distance.plot(kind='bar', title='Average Distance by Borough by Year', ylabel='Distance in Miles')\n",
    "#make the graph wider\n",
    "plt.gcf().set_size_inches(25, 5)\n",
    "\n"
   ]
  },
  {
   "cell_type": "code",
   "execution_count": null,
   "metadata": {},
   "outputs": [],
   "source": [
    "#average tip amount per borough\n",
    "borough_tip = overall_data[overall_data['PUBorough'] != 'EWR']\n",
    "borough_tip = overall_data.groupby(['PUBorough'])['tip_amount'].mean()\n",
    "borough_tip"
   ]
  },
  {
   "cell_type": "code",
   "execution_count": null,
   "metadata": {},
   "outputs": [],
   "source": [
    "#average tip amount in 2020\n",
    "borough_tip_2020 = overall_data[overall_data['year'] == 2020]\n",
    "borough_tip_2020 = borough_tip_2020.groupby(['PUBorough'])['tip_amount'].mean()\n",
    "borough_tip_2020\n"
   ]
  },
  {
   "cell_type": "code",
   "execution_count": null,
   "metadata": {},
   "outputs": [],
   "source": [
    "#average tip amount in 2019\n",
    "borough_tip_2019 = overall_data[overall_data['year'] == 2019]\n",
    "borough_tip_2019 = borough_tip_2019.groupby(['PUBorough'])['tip_amount'].mean()\n",
    "borough_tip_2019"
   ]
  },
  {
   "cell_type": "code",
   "execution_count": null,
   "metadata": {},
   "outputs": [],
   "source": [
    "#average tip amount in 2021\n",
    "borough_tip_2021 = overall_data[overall_data['year'] == 2021]\n",
    "borough_tip_2021 = borough_tip_2021.groupby(['PUBorough'])['tip_amount'].mean()\n",
    "borough_tip_2021"
   ]
  },
  {
   "cell_type": "code",
   "execution_count": null,
   "metadata": {},
   "outputs": [],
   "source": [
    "#average tip amount in 2022\n",
    "borough_tip_2022 = overall_data[overall_data['year'] == 2022]\n",
    "borough_tip_2022 = borough_tip_2022.groupby(['PUBorough'])['tip_amount'].mean()\n",
    "borough_tip_2022\n"
   ]
  },
  {
   "cell_type": "code",
   "execution_count": null,
   "metadata": {},
   "outputs": [],
   "source": [
    "#plot the change in average tip amount per borough from 2019 to 2020\n",
    "fig, ax = plt.subplots()\n",
    "borough_tip_2019.plot(title='Average Tip Amount by Borough', color='blue', ax=ax)\n",
    "borough_tip_2020.plot(title='Average Tip Amount by Borough', color='red', ax=ax)\n",
    "borough_tip_2021.plot(title='Average Tip Amount by Borough', color='green', ax=ax)\n",
    "borough_tip_2022.plot(title='Average Tip Amount by Borough', color='orange', ax=ax)\n",
    "ax.legend(['2019', '2020'])\n"
   ]
  },
  {
   "cell_type": "code",
   "execution_count": null,
   "metadata": {},
   "outputs": [],
   "source": [
    "#"
   ]
  },
  {
   "cell_type": "code",
   "execution_count": null,
   "metadata": {},
   "outputs": [],
   "source": [
    "#display the map in a panel with the other plots\n",
    "\n",
    "fig, ax = plt.subplots(2, 2, figsize=(30, 20))\n",
    "passenger_count.plot(kind='bar', title='Average Passenger Count by Year', color='blue', ax=ax[0,0], xlabel='Year', ylabel='Passenger Count')\n",
    "borough_distance.plot(kind='barh', title='Distance Traveled', colormap='Paired', ax=ax[0,1], xlabel='Borough', ylabel='Distance in Miles')\n",
    "borough_tip_2019.plot(title='Average Tip Amount by Borough', color='blue', ax=ax[1,0], xlabel='Borough', ylabel='Tip Amount in USD')\n",
    "borough_tip_2020.plot(title='Average Tip Amount by Borough', color='red', ax=ax[1,0], xlabel='Borough', ylabel='Tip Amount in USD')\n",
    "borough_tip_2021.plot(title='Average Tip Amount by Borough', color='green', ax=ax[1,0], xlabel='Borough', ylabel='Tip Amount in USD')\n",
    "borough_tip_2022.plot(title='Average Tip Amount by Borough', color='orange', ax=ax[1,0], xlabel='Borough', ylabel='Tip Amount in USD')\n",
    "cash_2019.plot(title='Cash  vs. Credit Payments', color='red', ax=ax[1,1], ylabel='Number of Payments', xlabel='Year')\n",
    "credit_2019.plot(title='Cash  vs. Credit Payments', color='blue', ax=ax[1,1], ylabel='Number of Payments', xlabel='Year')\n",
    "ax[0,0].legend(['Average Passenger Count'])\n",
    "ax[0,1].legend(loc='upper left', bbox_to_anchor=(1, 1), ncol=1, fancybox=True, shadow=True, title='Borough', title_fontsize='large',    borderpad=1, labelspacing=1, handlelength=1, handletextpad=1, borderaxespad=1, columnspacing=1)\n",
    "ax[1,0].legend(['2019', '2020', '2021', '2022'])\n",
    "ax[1,1].legend(['Cash', 'Credit Card'])\n",
    "\n",
    "\n",
    "\n",
    "for container in ax[0,0].containers:\n",
    "    ax[0,0].bar_label(container, label_type='edge', fmt='%.2f')\n",
    "\n",
    "\n",
    "#map"
   ]
  },
  {
   "cell_type": "code",
   "execution_count": null,
   "metadata": {},
   "outputs": [],
   "source": [
    "covid_df  = pd.read_csv('covid data/covidreportsbystate.csv')"
   ]
  },
  {
   "cell_type": "code",
   "execution_count": null,
   "metadata": {},
   "outputs": [],
   "source": [
    "covid_df"
   ]
  },
  {
   "cell_type": "code",
   "execution_count": null,
   "metadata": {},
   "outputs": [],
   "source": [
    "covid_df['submission_date'] = pd.to_datetime(covid_df['submission_date'])\n",
    "covid_df['created_at'] = pd.to_datetime(covid_df['created_at'])"
   ]
  },
  {
   "cell_type": "code",
   "execution_count": null,
   "metadata": {},
   "outputs": [],
   "source": [
    "covid_df.drop(columns=['consent_cases', 'consent_deaths', 'prob_cases', 'new_case', 'pnew_case', 'prob_death', 'new_death', 'pnew_death', 'conf_cases', 'conf_death'], inplace=True)"
   ]
  },
  {
   "cell_type": "code",
   "execution_count": null,
   "metadata": {},
   "outputs": [],
   "source": [
    "covid_df"
   ]
  },
  {
   "cell_type": "code",
   "execution_count": null,
   "metadata": {},
   "outputs": [],
   "source": []
  }
 ],
 "metadata": {
  "kernelspec": {
   "display_name": "Python 3",
   "language": "python",
   "name": "python3"
  },
  "language_info": {
   "codemirror_mode": {
    "name": "ipython",
    "version": 3
   },
   "file_extension": ".py",
   "mimetype": "text/x-python",
   "name": "python",
   "nbconvert_exporter": "python",
   "pygments_lexer": "ipython3",
   "version": "3.10.7"
  },
  "orig_nbformat": 4,
  "vscode": {
   "interpreter": {
    "hash": "d8e5688cf3dd00503d0a426f1c5255966c857509c84462baab2570ed664df645"
   }
  }
 },
 "nbformat": 4,
 "nbformat_minor": 2
}
